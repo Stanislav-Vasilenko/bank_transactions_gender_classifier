{
 "cells": [
  {
   "cell_type": "markdown",
   "source": [
    "<h1>1. Import necessary libraries<h1>"
   ],
   "metadata": {
    "collapsed": false,
    "pycharm": {
     "name": "#%% md\n"
    }
   }
  },
  {
   "cell_type": "code",
   "execution_count": 1,
   "metadata": {
    "collapsed": true
   },
   "outputs": [],
   "source": [
    "import pandas as pd\n",
    "import numpy as np"
   ]
  },
  {
   "cell_type": "code",
   "execution_count": 2,
   "outputs": [],
   "source": [
    "# Import necessary sklearn libraries\n",
    "from sklearn.linear_model import LogisticRegression\n",
    "import xgboost\n",
    "from sklearn.model_selection import train_test_split\n",
    "from sklearn.metrics import plot_roc_curve\n",
    "from sklearn.metrics import roc_auc_score\n",
    "from sklearn.model_selection import GridSearchCV\n",
    "from sklearn.metrics import make_scorer"
   ],
   "metadata": {
    "collapsed": false,
    "pycharm": {
     "name": "#%%\n"
    }
   }
  },
  {
   "cell_type": "markdown",
   "source": [
    "<h3>2. Preparing dataset for the classification model<h3>"
   ],
   "metadata": {
    "collapsed": false,
    "pycharm": {
     "name": "#%% md\n"
    }
   }
  },
  {
   "cell_type": "code",
   "execution_count": 3,
   "outputs": [
    {
     "data": {
      "text/plain": "             amount_in_mcc_742  amount_in_mcc_1711  amount_in_mcc_1731  \\\ncustomer_id                                                              \n6815                         0                 0.0                   0   \n22899                        0                 0.0                   0   \n27914                        0                 0.0                   0   \n28753                        0                 0.0                   0   \n31385                        0                 0.0                   0   \n\n             amount_in_mcc_1799  amount_in_mcc_3000  amount_in_mcc_3351  \\\ncustomer_id                                                               \n6815                          0                 0.0                 0.0   \n22899                         0                 0.0                 0.0   \n27914                         0                 0.0                 0.0   \n28753                         0                 0.0                 0.0   \n31385                         0                 0.0                 0.0   \n\n             amount_in_mcc_3501  amount_in_mcc_4121  amount_in_mcc_4131  \\\ncustomer_id                                                               \n6815                        0.0                 0.0                 0.0   \n22899                       0.0                 0.0                 0.0   \n27914                       0.0                 0.0                 0.0   \n28753                       0.0                 0.0                 0.0   \n31385                       0.0                 0.0                 0.0   \n\n             amount_in_mcc_4214  ...  amount_out_mcc_8043  \\\ncustomer_id                      ...                        \n6815                          0  ...                  0.0   \n22899                         0  ...                  0.0   \n27914                         0  ...                  0.0   \n28753                         0  ...                  0.0   \n31385                         0  ...                  0.0   \n\n             amount_out_mcc_8062  amount_out_mcc_8071  amount_out_mcc_8244  \\\ncustomer_id                                                                  \n6815                         0.0                  0.0                  0.0   \n22899                        0.0                  0.0                  0.0   \n27914                        0.0                  0.0                  0.0   \n28753                        0.0                  0.0                  0.0   \n31385                        0.0                  0.0                  0.0   \n\n             amount_out_mcc_8398  amount_out_mcc_8699  amount_out_mcc_9211  \\\ncustomer_id                                                                  \n6815                         0.0                  0.0                  0.0   \n22899                        0.0                  0.0                  0.0   \n27914                        0.0                  0.0                  0.0   \n28753                        0.0                  0.0                  0.0   \n31385                        0.0                  0.0                  0.0   \n\n             amount_out_mcc_9222  amount_out_mcc_9311  amount_out_mcc_9399  \ncustomer_id                                                                 \n6815                         0.0                  0.0                  0.0  \n22899                        0.0                  0.0                  0.0  \n27914                        0.0                  0.0                  0.0  \n28753                        0.0                  0.0                  0.0  \n31385                        0.0                  0.0                  0.0  \n\n[5 rows x 246 columns]",
      "text/html": "<div>\n<style scoped>\n    .dataframe tbody tr th:only-of-type {\n        vertical-align: middle;\n    }\n\n    .dataframe tbody tr th {\n        vertical-align: top;\n    }\n\n    .dataframe thead th {\n        text-align: right;\n    }\n</style>\n<table border=\"1\" class=\"dataframe\">\n  <thead>\n    <tr style=\"text-align: right;\">\n      <th></th>\n      <th>amount_in_mcc_742</th>\n      <th>amount_in_mcc_1711</th>\n      <th>amount_in_mcc_1731</th>\n      <th>amount_in_mcc_1799</th>\n      <th>amount_in_mcc_3000</th>\n      <th>amount_in_mcc_3351</th>\n      <th>amount_in_mcc_3501</th>\n      <th>amount_in_mcc_4121</th>\n      <th>amount_in_mcc_4131</th>\n      <th>amount_in_mcc_4214</th>\n      <th>...</th>\n      <th>amount_out_mcc_8043</th>\n      <th>amount_out_mcc_8062</th>\n      <th>amount_out_mcc_8071</th>\n      <th>amount_out_mcc_8244</th>\n      <th>amount_out_mcc_8398</th>\n      <th>amount_out_mcc_8699</th>\n      <th>amount_out_mcc_9211</th>\n      <th>amount_out_mcc_9222</th>\n      <th>amount_out_mcc_9311</th>\n      <th>amount_out_mcc_9399</th>\n    </tr>\n    <tr>\n      <th>customer_id</th>\n      <th></th>\n      <th></th>\n      <th></th>\n      <th></th>\n      <th></th>\n      <th></th>\n      <th></th>\n      <th></th>\n      <th></th>\n      <th></th>\n      <th></th>\n      <th></th>\n      <th></th>\n      <th></th>\n      <th></th>\n      <th></th>\n      <th></th>\n      <th></th>\n      <th></th>\n      <th></th>\n      <th></th>\n    </tr>\n  </thead>\n  <tbody>\n    <tr>\n      <th>6815</th>\n      <td>0</td>\n      <td>0.0</td>\n      <td>0</td>\n      <td>0</td>\n      <td>0.0</td>\n      <td>0.0</td>\n      <td>0.0</td>\n      <td>0.0</td>\n      <td>0.0</td>\n      <td>0</td>\n      <td>...</td>\n      <td>0.0</td>\n      <td>0.0</td>\n      <td>0.0</td>\n      <td>0.0</td>\n      <td>0.0</td>\n      <td>0.0</td>\n      <td>0.0</td>\n      <td>0.0</td>\n      <td>0.0</td>\n      <td>0.0</td>\n    </tr>\n    <tr>\n      <th>22899</th>\n      <td>0</td>\n      <td>0.0</td>\n      <td>0</td>\n      <td>0</td>\n      <td>0.0</td>\n      <td>0.0</td>\n      <td>0.0</td>\n      <td>0.0</td>\n      <td>0.0</td>\n      <td>0</td>\n      <td>...</td>\n      <td>0.0</td>\n      <td>0.0</td>\n      <td>0.0</td>\n      <td>0.0</td>\n      <td>0.0</td>\n      <td>0.0</td>\n      <td>0.0</td>\n      <td>0.0</td>\n      <td>0.0</td>\n      <td>0.0</td>\n    </tr>\n    <tr>\n      <th>27914</th>\n      <td>0</td>\n      <td>0.0</td>\n      <td>0</td>\n      <td>0</td>\n      <td>0.0</td>\n      <td>0.0</td>\n      <td>0.0</td>\n      <td>0.0</td>\n      <td>0.0</td>\n      <td>0</td>\n      <td>...</td>\n      <td>0.0</td>\n      <td>0.0</td>\n      <td>0.0</td>\n      <td>0.0</td>\n      <td>0.0</td>\n      <td>0.0</td>\n      <td>0.0</td>\n      <td>0.0</td>\n      <td>0.0</td>\n      <td>0.0</td>\n    </tr>\n    <tr>\n      <th>28753</th>\n      <td>0</td>\n      <td>0.0</td>\n      <td>0</td>\n      <td>0</td>\n      <td>0.0</td>\n      <td>0.0</td>\n      <td>0.0</td>\n      <td>0.0</td>\n      <td>0.0</td>\n      <td>0</td>\n      <td>...</td>\n      <td>0.0</td>\n      <td>0.0</td>\n      <td>0.0</td>\n      <td>0.0</td>\n      <td>0.0</td>\n      <td>0.0</td>\n      <td>0.0</td>\n      <td>0.0</td>\n      <td>0.0</td>\n      <td>0.0</td>\n    </tr>\n    <tr>\n      <th>31385</th>\n      <td>0</td>\n      <td>0.0</td>\n      <td>0</td>\n      <td>0</td>\n      <td>0.0</td>\n      <td>0.0</td>\n      <td>0.0</td>\n      <td>0.0</td>\n      <td>0.0</td>\n      <td>0</td>\n      <td>...</td>\n      <td>0.0</td>\n      <td>0.0</td>\n      <td>0.0</td>\n      <td>0.0</td>\n      <td>0.0</td>\n      <td>0.0</td>\n      <td>0.0</td>\n      <td>0.0</td>\n      <td>0.0</td>\n      <td>0.0</td>\n    </tr>\n  </tbody>\n</table>\n<p>5 rows × 246 columns</p>\n</div>"
     },
     "execution_count": 3,
     "metadata": {},
     "output_type": "execute_result"
    }
   ],
   "source": [
    "gender_train = pd.read_csv(\"data/gender_train.csv\")\n",
    "tr_data_sum_amount_by_mcc = pd.read_csv(\"data/df_sum_amount_by_mcc.csv\", index_col='customer_id')\n",
    "tr_data_sum_amount_by_mcc.head()"
   ],
   "metadata": {
    "collapsed": false,
    "pycharm": {
     "name": "#%%\n"
    }
   }
  },
  {
   "cell_type": "code",
   "execution_count": 4,
   "outputs": [
    {
     "name": "stdout",
     "output_type": "stream",
     "text": [
      "Size of the dataset : (13407, 246)\n"
     ]
    }
   ],
   "source": [
    "print('Size of the dataset : {}'.format(tr_data_sum_amount_by_mcc.shape))"
   ],
   "metadata": {
    "collapsed": false,
    "pycharm": {
     "name": "#%%\n"
    }
   }
  },
  {
   "cell_type": "code",
   "execution_count": 5,
   "outputs": [
    {
     "name": "stdout",
     "output_type": "stream",
     "text": [
      "Size of the first model train dataset : (7475, 247)\n"
     ]
    },
    {
     "data": {
      "text/plain": "             amount_in_mcc_742  amount_in_mcc_1711  amount_in_mcc_1731  \\\ncustomer_id                                                              \n22899                        0                 0.0                   0   \n28753                        0                 0.0                   0   \n42096                        0                 0.0                   0   \n49793                        0                 0.0                   0   \n50940                        0                 0.0                   0   \n\n             amount_in_mcc_1799  amount_in_mcc_3000  amount_in_mcc_3351  \\\ncustomer_id                                                               \n22899                         0                 0.0                 0.0   \n28753                         0                 0.0                 0.0   \n42096                         0                 0.0                 0.0   \n49793                         0                 0.0                 0.0   \n50940                         0                 0.0                 0.0   \n\n             amount_in_mcc_3501  amount_in_mcc_4121  amount_in_mcc_4131  \\\ncustomer_id                                                               \n22899                       0.0                 0.0                 0.0   \n28753                       0.0                 0.0                 0.0   \n42096                       0.0                 0.0                 0.0   \n49793                       0.0                 0.0                 0.0   \n50940                       0.0                 0.0                 0.0   \n\n             amount_in_mcc_4214  ...  amount_out_mcc_8062  \\\ncustomer_id                      ...                        \n22899                         0  ...                  0.0   \n28753                         0  ...                  0.0   \n42096                         0  ...                  0.0   \n49793                         0  ...                  0.0   \n50940                         0  ...                  0.0   \n\n             amount_out_mcc_8071  amount_out_mcc_8244  amount_out_mcc_8398  \\\ncustomer_id                                                                  \n22899                        0.0                  0.0                  0.0   \n28753                        0.0                  0.0                  0.0   \n42096                        0.0                  0.0                  0.0   \n49793                        0.0                  0.0                  0.0   \n50940                        0.0                  0.0                  0.0   \n\n             amount_out_mcc_8699  amount_out_mcc_9211  amount_out_mcc_9222  \\\ncustomer_id                                                                  \n22899                        0.0                  0.0                  0.0   \n28753                        0.0                  0.0                  0.0   \n42096                        0.0                  0.0                  0.0   \n49793                        0.0                  0.0                  0.0   \n50940                        0.0                  0.0                  0.0   \n\n             amount_out_mcc_9311  amount_out_mcc_9399  gender  \ncustomer_id                                                    \n22899                        0.0                  0.0       1  \n28753                        0.0                  0.0       0  \n42096                        0.0                  0.0       0  \n49793                        0.0                  0.0       1  \n50940                        0.0                  0.0       0  \n\n[5 rows x 247 columns]",
      "text/html": "<div>\n<style scoped>\n    .dataframe tbody tr th:only-of-type {\n        vertical-align: middle;\n    }\n\n    .dataframe tbody tr th {\n        vertical-align: top;\n    }\n\n    .dataframe thead th {\n        text-align: right;\n    }\n</style>\n<table border=\"1\" class=\"dataframe\">\n  <thead>\n    <tr style=\"text-align: right;\">\n      <th></th>\n      <th>amount_in_mcc_742</th>\n      <th>amount_in_mcc_1711</th>\n      <th>amount_in_mcc_1731</th>\n      <th>amount_in_mcc_1799</th>\n      <th>amount_in_mcc_3000</th>\n      <th>amount_in_mcc_3351</th>\n      <th>amount_in_mcc_3501</th>\n      <th>amount_in_mcc_4121</th>\n      <th>amount_in_mcc_4131</th>\n      <th>amount_in_mcc_4214</th>\n      <th>...</th>\n      <th>amount_out_mcc_8062</th>\n      <th>amount_out_mcc_8071</th>\n      <th>amount_out_mcc_8244</th>\n      <th>amount_out_mcc_8398</th>\n      <th>amount_out_mcc_8699</th>\n      <th>amount_out_mcc_9211</th>\n      <th>amount_out_mcc_9222</th>\n      <th>amount_out_mcc_9311</th>\n      <th>amount_out_mcc_9399</th>\n      <th>gender</th>\n    </tr>\n    <tr>\n      <th>customer_id</th>\n      <th></th>\n      <th></th>\n      <th></th>\n      <th></th>\n      <th></th>\n      <th></th>\n      <th></th>\n      <th></th>\n      <th></th>\n      <th></th>\n      <th></th>\n      <th></th>\n      <th></th>\n      <th></th>\n      <th></th>\n      <th></th>\n      <th></th>\n      <th></th>\n      <th></th>\n      <th></th>\n      <th></th>\n    </tr>\n  </thead>\n  <tbody>\n    <tr>\n      <th>22899</th>\n      <td>0</td>\n      <td>0.0</td>\n      <td>0</td>\n      <td>0</td>\n      <td>0.0</td>\n      <td>0.0</td>\n      <td>0.0</td>\n      <td>0.0</td>\n      <td>0.0</td>\n      <td>0</td>\n      <td>...</td>\n      <td>0.0</td>\n      <td>0.0</td>\n      <td>0.0</td>\n      <td>0.0</td>\n      <td>0.0</td>\n      <td>0.0</td>\n      <td>0.0</td>\n      <td>0.0</td>\n      <td>0.0</td>\n      <td>1</td>\n    </tr>\n    <tr>\n      <th>28753</th>\n      <td>0</td>\n      <td>0.0</td>\n      <td>0</td>\n      <td>0</td>\n      <td>0.0</td>\n      <td>0.0</td>\n      <td>0.0</td>\n      <td>0.0</td>\n      <td>0.0</td>\n      <td>0</td>\n      <td>...</td>\n      <td>0.0</td>\n      <td>0.0</td>\n      <td>0.0</td>\n      <td>0.0</td>\n      <td>0.0</td>\n      <td>0.0</td>\n      <td>0.0</td>\n      <td>0.0</td>\n      <td>0.0</td>\n      <td>0</td>\n    </tr>\n    <tr>\n      <th>42096</th>\n      <td>0</td>\n      <td>0.0</td>\n      <td>0</td>\n      <td>0</td>\n      <td>0.0</td>\n      <td>0.0</td>\n      <td>0.0</td>\n      <td>0.0</td>\n      <td>0.0</td>\n      <td>0</td>\n      <td>...</td>\n      <td>0.0</td>\n      <td>0.0</td>\n      <td>0.0</td>\n      <td>0.0</td>\n      <td>0.0</td>\n      <td>0.0</td>\n      <td>0.0</td>\n      <td>0.0</td>\n      <td>0.0</td>\n      <td>0</td>\n    </tr>\n    <tr>\n      <th>49793</th>\n      <td>0</td>\n      <td>0.0</td>\n      <td>0</td>\n      <td>0</td>\n      <td>0.0</td>\n      <td>0.0</td>\n      <td>0.0</td>\n      <td>0.0</td>\n      <td>0.0</td>\n      <td>0</td>\n      <td>...</td>\n      <td>0.0</td>\n      <td>0.0</td>\n      <td>0.0</td>\n      <td>0.0</td>\n      <td>0.0</td>\n      <td>0.0</td>\n      <td>0.0</td>\n      <td>0.0</td>\n      <td>0.0</td>\n      <td>1</td>\n    </tr>\n    <tr>\n      <th>50940</th>\n      <td>0</td>\n      <td>0.0</td>\n      <td>0</td>\n      <td>0</td>\n      <td>0.0</td>\n      <td>0.0</td>\n      <td>0.0</td>\n      <td>0.0</td>\n      <td>0.0</td>\n      <td>0</td>\n      <td>...</td>\n      <td>0.0</td>\n      <td>0.0</td>\n      <td>0.0</td>\n      <td>0.0</td>\n      <td>0.0</td>\n      <td>0.0</td>\n      <td>0.0</td>\n      <td>0.0</td>\n      <td>0.0</td>\n      <td>0</td>\n    </tr>\n  </tbody>\n</table>\n<p>5 rows × 247 columns</p>\n</div>"
     },
     "execution_count": 5,
     "metadata": {},
     "output_type": "execute_result"
    }
   ],
   "source": [
    "# Making a train dataset for the model\n",
    "gender_train = gender_train.set_index('customer_id')\n",
    "data_train = pd.merge(tr_data_sum_amount_by_mcc, gender_train,\n",
    "                                  how='inner', on=\"customer_id\").fillna(0)\n",
    "print('Size of the first model train dataset : {}'.format(data_train.shape))\n",
    "data_train.head()"
   ],
   "metadata": {
    "collapsed": false,
    "pycharm": {
     "name": "#%%\n"
    }
   }
  },
  {
   "cell_type": "code",
   "execution_count": 6,
   "outputs": [
    {
     "name": "stdout",
     "output_type": "stream",
     "text": [
      "Size of the first model X : (7475, 246)\n",
      "Size of the first model y : (7475,)\n"
     ]
    }
   ],
   "source": [
    "# Getting X, y from the model train dataset\n",
    "X = data_train.drop(['gender'], axis=1)\n",
    "y = data_train.gender\n",
    "print('Size of the first model X : {}'.format(X.shape))\n",
    "print('Size of the first model y : {}'.format(y.shape))"
   ],
   "metadata": {
    "collapsed": false,
    "pycharm": {
     "name": "#%%\n"
    }
   }
  },
  {
   "cell_type": "code",
   "execution_count": 7,
   "outputs": [
    {
     "name": "stdout",
     "output_type": "stream",
     "text": [
      "Size of the first model X_test : (5932, 246)\n"
     ]
    },
    {
     "data": {
      "text/plain": "             amount_in_mcc_742  amount_in_mcc_1711  amount_in_mcc_1731  \\\ncustomer_id                                                              \n6815                         0                 0.0                   0   \n27914                        0                 0.0                   0   \n31385                        0                 0.0                   0   \n38084                        0                 0.0                   0   \n49101                        0                 0.0                   0   \n\n             amount_in_mcc_1799  amount_in_mcc_3000  amount_in_mcc_3351  \\\ncustomer_id                                                               \n6815                          0                 0.0                 0.0   \n27914                         0                 0.0                 0.0   \n31385                         0                 0.0                 0.0   \n38084                         0                 0.0                 0.0   \n49101                         0                 0.0                 0.0   \n\n             amount_in_mcc_3501  amount_in_mcc_4121  amount_in_mcc_4131  \\\ncustomer_id                                                               \n6815                        0.0                 0.0                 0.0   \n27914                       0.0                 0.0                 0.0   \n31385                       0.0                 0.0                 0.0   \n38084                       0.0                 0.0                 0.0   \n49101                       0.0                 0.0                 0.0   \n\n             amount_in_mcc_4214  ...  amount_out_mcc_8043  \\\ncustomer_id                      ...                        \n6815                          0  ...                  0.0   \n27914                         0  ...                  0.0   \n31385                         0  ...                  0.0   \n38084                         0  ...                  0.0   \n49101                         0  ...                  0.0   \n\n             amount_out_mcc_8062  amount_out_mcc_8071  amount_out_mcc_8244  \\\ncustomer_id                                                                  \n6815                         0.0                  0.0                  0.0   \n27914                        0.0                  0.0                  0.0   \n31385                        0.0                  0.0                  0.0   \n38084                        0.0                  0.0                  0.0   \n49101                        0.0                  0.0                  0.0   \n\n             amount_out_mcc_8398  amount_out_mcc_8699  amount_out_mcc_9211  \\\ncustomer_id                                                                  \n6815                         0.0                  0.0                  0.0   \n27914                        0.0                  0.0                  0.0   \n31385                        0.0                  0.0                  0.0   \n38084                        0.0                  0.0                  0.0   \n49101                        0.0                  0.0                  0.0   \n\n             amount_out_mcc_9222  amount_out_mcc_9311  amount_out_mcc_9399  \ncustomer_id                                                                 \n6815                         0.0                  0.0                  0.0  \n27914                        0.0                  0.0                  0.0  \n31385                        0.0                  0.0                  0.0  \n38084                        0.0                  0.0                  0.0  \n49101                        0.0                  0.0                  0.0  \n\n[5 rows x 246 columns]",
      "text/html": "<div>\n<style scoped>\n    .dataframe tbody tr th:only-of-type {\n        vertical-align: middle;\n    }\n\n    .dataframe tbody tr th {\n        vertical-align: top;\n    }\n\n    .dataframe thead th {\n        text-align: right;\n    }\n</style>\n<table border=\"1\" class=\"dataframe\">\n  <thead>\n    <tr style=\"text-align: right;\">\n      <th></th>\n      <th>amount_in_mcc_742</th>\n      <th>amount_in_mcc_1711</th>\n      <th>amount_in_mcc_1731</th>\n      <th>amount_in_mcc_1799</th>\n      <th>amount_in_mcc_3000</th>\n      <th>amount_in_mcc_3351</th>\n      <th>amount_in_mcc_3501</th>\n      <th>amount_in_mcc_4121</th>\n      <th>amount_in_mcc_4131</th>\n      <th>amount_in_mcc_4214</th>\n      <th>...</th>\n      <th>amount_out_mcc_8043</th>\n      <th>amount_out_mcc_8062</th>\n      <th>amount_out_mcc_8071</th>\n      <th>amount_out_mcc_8244</th>\n      <th>amount_out_mcc_8398</th>\n      <th>amount_out_mcc_8699</th>\n      <th>amount_out_mcc_9211</th>\n      <th>amount_out_mcc_9222</th>\n      <th>amount_out_mcc_9311</th>\n      <th>amount_out_mcc_9399</th>\n    </tr>\n    <tr>\n      <th>customer_id</th>\n      <th></th>\n      <th></th>\n      <th></th>\n      <th></th>\n      <th></th>\n      <th></th>\n      <th></th>\n      <th></th>\n      <th></th>\n      <th></th>\n      <th></th>\n      <th></th>\n      <th></th>\n      <th></th>\n      <th></th>\n      <th></th>\n      <th></th>\n      <th></th>\n      <th></th>\n      <th></th>\n      <th></th>\n    </tr>\n  </thead>\n  <tbody>\n    <tr>\n      <th>6815</th>\n      <td>0</td>\n      <td>0.0</td>\n      <td>0</td>\n      <td>0</td>\n      <td>0.0</td>\n      <td>0.0</td>\n      <td>0.0</td>\n      <td>0.0</td>\n      <td>0.0</td>\n      <td>0</td>\n      <td>...</td>\n      <td>0.0</td>\n      <td>0.0</td>\n      <td>0.0</td>\n      <td>0.0</td>\n      <td>0.0</td>\n      <td>0.0</td>\n      <td>0.0</td>\n      <td>0.0</td>\n      <td>0.0</td>\n      <td>0.0</td>\n    </tr>\n    <tr>\n      <th>27914</th>\n      <td>0</td>\n      <td>0.0</td>\n      <td>0</td>\n      <td>0</td>\n      <td>0.0</td>\n      <td>0.0</td>\n      <td>0.0</td>\n      <td>0.0</td>\n      <td>0.0</td>\n      <td>0</td>\n      <td>...</td>\n      <td>0.0</td>\n      <td>0.0</td>\n      <td>0.0</td>\n      <td>0.0</td>\n      <td>0.0</td>\n      <td>0.0</td>\n      <td>0.0</td>\n      <td>0.0</td>\n      <td>0.0</td>\n      <td>0.0</td>\n    </tr>\n    <tr>\n      <th>31385</th>\n      <td>0</td>\n      <td>0.0</td>\n      <td>0</td>\n      <td>0</td>\n      <td>0.0</td>\n      <td>0.0</td>\n      <td>0.0</td>\n      <td>0.0</td>\n      <td>0.0</td>\n      <td>0</td>\n      <td>...</td>\n      <td>0.0</td>\n      <td>0.0</td>\n      <td>0.0</td>\n      <td>0.0</td>\n      <td>0.0</td>\n      <td>0.0</td>\n      <td>0.0</td>\n      <td>0.0</td>\n      <td>0.0</td>\n      <td>0.0</td>\n    </tr>\n    <tr>\n      <th>38084</th>\n      <td>0</td>\n      <td>0.0</td>\n      <td>0</td>\n      <td>0</td>\n      <td>0.0</td>\n      <td>0.0</td>\n      <td>0.0</td>\n      <td>0.0</td>\n      <td>0.0</td>\n      <td>0</td>\n      <td>...</td>\n      <td>0.0</td>\n      <td>0.0</td>\n      <td>0.0</td>\n      <td>0.0</td>\n      <td>0.0</td>\n      <td>0.0</td>\n      <td>0.0</td>\n      <td>0.0</td>\n      <td>0.0</td>\n      <td>0.0</td>\n    </tr>\n    <tr>\n      <th>49101</th>\n      <td>0</td>\n      <td>0.0</td>\n      <td>0</td>\n      <td>0</td>\n      <td>0.0</td>\n      <td>0.0</td>\n      <td>0.0</td>\n      <td>0.0</td>\n      <td>0.0</td>\n      <td>0</td>\n      <td>...</td>\n      <td>0.0</td>\n      <td>0.0</td>\n      <td>0.0</td>\n      <td>0.0</td>\n      <td>0.0</td>\n      <td>0.0</td>\n      <td>0.0</td>\n      <td>0.0</td>\n      <td>0.0</td>\n      <td>0.0</td>\n    </tr>\n  </tbody>\n</table>\n<p>5 rows × 246 columns</p>\n</div>"
     },
     "execution_count": 7,
     "metadata": {},
     "output_type": "execute_result"
    }
   ],
   "source": [
    "# Getting test dataset for the model\n",
    "X_test = tr_data_sum_amount_by_mcc.loc[\n",
    "     ~tr_data_sum_amount_by_mcc.index.isin(data_train.index.unique())]\n",
    "print('Size of the first model X_test : {}'.format(X_test.shape))\n",
    "X_test.head()"
   ],
   "metadata": {
    "collapsed": false,
    "pycharm": {
     "name": "#%%\n"
    }
   }
  },
  {
   "cell_type": "markdown",
   "source": [
    "Splitting dataset to the train and validation datasets:"
   ],
   "metadata": {
    "collapsed": false,
    "pycharm": {
     "name": "#%% md\n"
    }
   }
  },
  {
   "cell_type": "code",
   "execution_count": 8,
   "outputs": [],
   "source": [
    "X_train, X_valid, y_train, y_valid = train_test_split(X, y, random_state=0)"
   ],
   "metadata": {
    "collapsed": false,
    "pycharm": {
     "name": "#%%\n"
    }
   }
  },
  {
   "cell_type": "markdown",
   "source": [
    "<h3>3. XGBoost Classifier for classification model<h3>"
   ],
   "metadata": {
    "collapsed": false,
    "pycharm": {
     "name": "#%% md\n"
    }
   }
  },
  {
   "cell_type": "code",
   "execution_count": 9,
   "outputs": [
    {
     "name": "stdout",
     "output_type": "stream",
     "text": [
      "Accuracy score on train set: 0.933\n",
      "Accuracy score on valid set: 0.771\n"
     ]
    },
    {
     "data": {
      "text/plain": "<Figure size 432x288 with 1 Axes>",
      "image/png": "[encoded data removed]"
     },
     "metadata": {
      "needs_background": "light"
     },
     "output_type": "display_data"
    }
   ],
   "source": [
    "xgb = xgboost.XGBClassifier(eval_metric='auc', use_label_encoder=False,\n",
    "                           objective='binary:logistic',\n",
    "                           alpha = 1)\n",
    "xgb.fit(X_train, y_train)\n",
    "print(\"Accuracy score on train set: {:.3f}\".format(xgb.score(X_train, y_train)))\n",
    "print(\"Accuracy score on valid set: {:.3f}\".format(xgb.score(X_valid, y_valid)))\n",
    "plot_roc_curve(xgb, X_valid, y_valid);"
   ],
   "metadata": {
    "collapsed": false,
    "pycharm": {
     "name": "#%%\n"
    }
   }
  },
  {
   "cell_type": "code",
   "execution_count": 10,
   "outputs": [],
   "source": [
    "# Range of parameters xgboost for GridSearch\n",
    "alpha_xgb_GS_range = np.round(np.linspace(9, 10, 11),2)\n",
    "xgb_parameters = {'alpha': alpha_xgb_GS_range}"
   ],
   "metadata": {
    "collapsed": false,
    "pycharm": {
     "name": "#%%\n"
    }
   }
  },
  {
   "cell_type": "code",
   "execution_count": 11,
   "outputs": [],
   "source": [
    "ROC_AUC_scorer = make_scorer(roc_auc_score)\n",
    "xgb_GS = GridSearchCV(scoring=ROC_AUC_scorer,\n",
    "                     estimator=xgboost.XGBClassifier(eval_metric='auc', use_label_encoder=False,\n",
    "                     objective='binary:logistic'),\n",
    "                     param_grid=xgb_parameters, cv=5)"
   ],
   "metadata": {
    "collapsed": false,
    "pycharm": {
     "name": "#%%\n"
    }
   }
  },
  {
   "cell_type": "code",
   "execution_count": 12,
   "outputs": [
    {
     "data": {
      "text/plain": "GridSearchCV(cv=5,\n             estimator=XGBClassifier(base_score=None, booster=None,\n                                     colsample_bylevel=None,\n                                     colsample_bynode=None,\n                                     colsample_bytree=None,\n                                     enable_categorical=False,\n                                     eval_metric='auc', gamma=None, gpu_id=None,\n                                     importance_type=None,\n                                     interaction_constraints=None,\n                                     learning_rate=None, max_delta_step=None,\n                                     max_depth=None, min_child_weight=None,\n                                     missing=nan, monotone...s=None,\n                                     n_estimators=100, n_jobs=None,\n                                     num_parallel_tree=None, predictor=None,\n                                     random_state=None, reg_alpha=None,\n                                     reg_lambda=None, scale_pos_weight=None,\n                                     subsample=None, tree_method=None,\n                                     use_label_encoder=False,\n                                     validate_parameters=None, verbosity=None),\n             param_grid={'alpha': array([ 9. ,  9.1,  9.2,  9.3,  9.4,  9.5,  9.6,  9.7,  9.8,  9.9, 10. ])},\n             scoring=make_scorer(roc_auc_score))"
     },
     "execution_count": 12,
     "metadata": {},
     "output_type": "execute_result"
    }
   ],
   "source": [
    "xgb_GS.fit(X_train, y_train)"
   ],
   "metadata": {
    "collapsed": false,
    "pycharm": {
     "name": "#%%\n"
    }
   }
  },
  {
   "cell_type": "code",
   "execution_count": 13,
   "outputs": [
    {
     "name": "stdout",
     "output_type": "stream",
     "text": [
      "Best score: 0.7731255403709776\n",
      "Best params: XGBClassifier(alpha=9.8, base_score=0.5, booster='gbtree', colsample_bylevel=1,\n",
      "              colsample_bynode=1, colsample_bytree=1, enable_categorical=False,\n",
      "              eval_metric='auc', gamma=0, gpu_id=-1, importance_type=None,\n",
      "              interaction_constraints='', learning_rate=0.300000012,\n",
      "              max_delta_step=0, max_depth=6, min_child_weight=1, missing=nan,\n",
      "              monotone_constraints='()', n_estimators=100, n_jobs=12,\n",
      "              num_parallel_tree=1, predictor='auto', random_state=0,\n",
      "              reg_alpha=9.80000019, reg_lambda=1, scale_pos_weight=1,\n",
      "              subsample=1, tree_method='exact', use_label_encoder=False,\n",
      "              validate_parameters=1, ...)\n"
     ]
    }
   ],
   "source": [
    "print(\"Best score: {}\".format(xgb_GS.best_score_))\n",
    "print(\"Best params: {}\".format(xgb_GS.best_estimator_))"
   ],
   "metadata": {
    "collapsed": false,
    "pycharm": {
     "name": "#%%\n"
    }
   }
  },
  {
   "cell_type": "code",
   "execution_count": 14,
   "outputs": [
    {
     "name": "stdout",
     "output_type": "stream",
     "text": [
      "Accuracy score on train set: 0.854\n",
      "Accuracy score on valid set: 0.781\n"
     ]
    },
    {
     "data": {
      "text/plain": "<Figure size 432x288 with 1 Axes>",
      "image/png": "[encoded data removed]"
     },
     "metadata": {
      "needs_background": "light"
     },
     "output_type": "display_data"
    }
   ],
   "source": [
    "# XGBoost classifier third model with parameters found by GridSearchCV\n",
    "print(\"Accuracy score on train set: {:.3f}\".format(xgb_GS.score(X_train, y_train)))\n",
    "print(\"Accuracy score on valid set: {:.3f}\".format(xgb_GS.score(X_valid, y_valid)))\n",
    "plot_roc_curve(xgb_GS, X_valid, y_valid);"
   ],
   "metadata": {
    "collapsed": false,
    "pycharm": {
     "name": "#%%\n"
    }
   }
  },
  {
   "cell_type": "markdown",
   "source": [
    "It seems that we reach ROC AUC = 0.86 on the validation dataset with the best hyper-parameters found by GridSearchCV"
   ],
   "metadata": {
    "collapsed": false,
    "pycharm": {
     "name": "#%% md\n"
    }
   }
  },
  {
   "cell_type": "markdown",
   "source": [
    "<h3>4. Make the predictions<h3>"
   ],
   "metadata": {
    "collapsed": false,
    "pycharm": {
     "name": "#%% md\n"
    }
   }
  },
  {
   "cell_type": "code",
   "execution_count": 15,
   "outputs": [],
   "source": [
    "customers_for_sumbission = pd.read_csv(\"data/gender_test_kaggle_sample_submission.csv\")"
   ],
   "metadata": {
    "collapsed": false,
    "pycharm": {
     "name": "#%%\n"
    }
   }
  },
  {
   "cell_type": "code",
   "execution_count": 16,
   "outputs": [],
   "source": [
    "customers_for_sumbission.drop(['probability'], axis=1, inplace=True)"
   ],
   "metadata": {
    "collapsed": false,
    "pycharm": {
     "name": "#%%\n"
    }
   }
  },
  {
   "cell_type": "code",
   "execution_count": 17,
   "outputs": [
    {
     "data": {
      "text/plain": "   customer_id\n0     75562265\n1     84816985\n2     54129921\n3     23160845\n4     45646491",
      "text/html": "<div>\n<style scoped>\n    .dataframe tbody tr th:only-of-type {\n        vertical-align: middle;\n    }\n\n    .dataframe tbody tr th {\n        vertical-align: top;\n    }\n\n    .dataframe thead th {\n        text-align: right;\n    }\n</style>\n<table border=\"1\" class=\"dataframe\">\n  <thead>\n    <tr style=\"text-align: right;\">\n      <th></th>\n      <th>customer_id</th>\n    </tr>\n  </thead>\n  <tbody>\n    <tr>\n      <th>0</th>\n      <td>75562265</td>\n    </tr>\n    <tr>\n      <th>1</th>\n      <td>84816985</td>\n    </tr>\n    <tr>\n      <th>2</th>\n      <td>54129921</td>\n    </tr>\n    <tr>\n      <th>3</th>\n      <td>23160845</td>\n    </tr>\n    <tr>\n      <th>4</th>\n      <td>45646491</td>\n    </tr>\n  </tbody>\n</table>\n</div>"
     },
     "execution_count": 17,
     "metadata": {},
     "output_type": "execute_result"
    }
   ],
   "source": [
    "customers_for_sumbission.head()"
   ],
   "metadata": {
    "collapsed": false,
    "pycharm": {
     "name": "#%%\n"
    }
   }
  },
  {
   "cell_type": "code",
   "execution_count": 18,
   "outputs": [
    {
     "data": {
      "text/plain": "(5932, 246)"
     },
     "execution_count": 18,
     "metadata": {},
     "output_type": "execute_result"
    }
   ],
   "source": [
    "X_test.shape"
   ],
   "metadata": {
    "collapsed": false,
    "pycharm": {
     "name": "#%%\n"
    }
   }
  },
  {
   "cell_type": "code",
   "execution_count": 19,
   "outputs": [
    {
     "name": "stdout",
     "output_type": "stream",
     "text": [
      "Size of submission dataset : (3600, 247)\n"
     ]
    }
   ],
   "source": [
    "X_test.reset_index()\n",
    "X_test_predictions = pd.merge(X_test,customers_for_sumbission,\n",
    "                                    how='right', on=\"customer_id\")\n",
    "\n",
    "X_test_predictions.set_index('customer_id')\n",
    "print('Size of submission dataset : {}'.format(X_test_predictions.shape))"
   ],
   "metadata": {
    "collapsed": false,
    "pycharm": {
     "name": "#%%\n"
    }
   }
  },
  {
   "cell_type": "code",
   "execution_count": 20,
   "outputs": [],
   "source": [
    "X_test_predictions.set_index('customer_id',inplace=True)"
   ],
   "metadata": {
    "collapsed": false,
    "pycharm": {
     "name": "#%%\n"
    }
   }
  },
  {
   "cell_type": "code",
   "execution_count": 21,
   "outputs": [
    {
     "data": {
      "text/plain": "(3600, 246)"
     },
     "execution_count": 21,
     "metadata": {},
     "output_type": "execute_result"
    }
   ],
   "source": [
    "X_test_predictions.shape"
   ],
   "metadata": {
    "collapsed": false,
    "pycharm": {
     "name": "#%%\n"
    }
   }
  },
  {
   "cell_type": "code",
   "execution_count": 22,
   "outputs": [
    {
     "data": {
      "text/plain": "             amount_in_mcc_742  amount_in_mcc_1711  amount_in_mcc_1731  \\\ncustomer_id                                                              \n75562265                   0.0                 0.0                 0.0   \n84816985                   0.0                 0.0                 0.0   \n54129921                   0.0                 0.0                 0.0   \n23160845                   0.0                 0.0                 0.0   \n45646491                   0.0                 0.0                 0.0   \n\n             amount_in_mcc_1799  amount_in_mcc_3000  amount_in_mcc_3351  \\\ncustomer_id                                                               \n75562265                    0.0                 0.0                 0.0   \n84816985                    0.0                 0.0                 0.0   \n54129921                    0.0                 0.0                 0.0   \n23160845                    0.0                 0.0                 0.0   \n45646491                    0.0                 0.0                 0.0   \n\n             amount_in_mcc_3501  amount_in_mcc_4121  amount_in_mcc_4131  \\\ncustomer_id                                                               \n75562265                    0.0                 0.0                 0.0   \n84816985                    0.0                 0.0                 0.0   \n54129921                    0.0                 0.0                 0.0   \n23160845                    0.0                 0.0                 0.0   \n45646491                    0.0                 0.0                 0.0   \n\n             amount_in_mcc_4214  ...  amount_out_mcc_8043  \\\ncustomer_id                      ...                        \n75562265                    0.0  ...                  0.0   \n84816985                    0.0  ...                  0.0   \n54129921                    0.0  ...                  0.0   \n23160845                    0.0  ...                  0.0   \n45646491                    0.0  ...                  0.0   \n\n             amount_out_mcc_8062  amount_out_mcc_8071  amount_out_mcc_8244  \\\ncustomer_id                                                                  \n75562265                     0.0                  0.0                  0.0   \n84816985                     0.0                  0.0                  0.0   \n54129921                     0.0                  0.0                  0.0   \n23160845                     0.0                  0.0                  0.0   \n45646491                     0.0                  0.0                  0.0   \n\n             amount_out_mcc_8398  amount_out_mcc_8699  amount_out_mcc_9211  \\\ncustomer_id                                                                  \n75562265                     0.0                  0.0                  0.0   \n84816985                     0.0                  0.0                  0.0   \n54129921                     0.0                  0.0                  0.0   \n23160845                     0.0                  0.0                  0.0   \n45646491                     0.0                  0.0                  0.0   \n\n             amount_out_mcc_9222  amount_out_mcc_9311  amount_out_mcc_9399  \ncustomer_id                                                                 \n75562265                     0.0                  0.0                  0.0  \n84816985                     0.0                  0.0                  0.0  \n54129921                     0.0                  0.0                  0.0  \n23160845                     0.0                  0.0                  0.0  \n45646491                     0.0                  0.0                  0.0  \n\n[5 rows x 246 columns]",
      "text/html": "<div>\n<style scoped>\n    .dataframe tbody tr th:only-of-type {\n        vertical-align: middle;\n    }\n\n    .dataframe tbody tr th {\n        vertical-align: top;\n    }\n\n    .dataframe thead th {\n        text-align: right;\n    }\n</style>\n<table border=\"1\" class=\"dataframe\">\n  <thead>\n    <tr style=\"text-align: right;\">\n      <th></th>\n      <th>amount_in_mcc_742</th>\n      <th>amount_in_mcc_1711</th>\n      <th>amount_in_mcc_1731</th>\n      <th>amount_in_mcc_1799</th>\n      <th>amount_in_mcc_3000</th>\n      <th>amount_in_mcc_3351</th>\n      <th>amount_in_mcc_3501</th>\n      <th>amount_in_mcc_4121</th>\n      <th>amount_in_mcc_4131</th>\n      <th>amount_in_mcc_4214</th>\n      <th>...</th>\n      <th>amount_out_mcc_8043</th>\n      <th>amount_out_mcc_8062</th>\n      <th>amount_out_mcc_8071</th>\n      <th>amount_out_mcc_8244</th>\n      <th>amount_out_mcc_8398</th>\n      <th>amount_out_mcc_8699</th>\n      <th>amount_out_mcc_9211</th>\n      <th>amount_out_mcc_9222</th>\n      <th>amount_out_mcc_9311</th>\n      <th>amount_out_mcc_9399</th>\n    </tr>\n    <tr>\n      <th>customer_id</th>\n      <th></th>\n      <th></th>\n      <th></th>\n      <th></th>\n      <th></th>\n      <th></th>\n      <th></th>\n      <th></th>\n      <th></th>\n      <th></th>\n      <th></th>\n      <th></th>\n      <th></th>\n      <th></th>\n      <th></th>\n      <th></th>\n      <th></th>\n      <th></th>\n      <th></th>\n      <th></th>\n      <th></th>\n    </tr>\n  </thead>\n  <tbody>\n    <tr>\n      <th>75562265</th>\n      <td>0.0</td>\n      <td>0.0</td>\n      <td>0.0</td>\n      <td>0.0</td>\n      <td>0.0</td>\n      <td>0.0</td>\n      <td>0.0</td>\n      <td>0.0</td>\n      <td>0.0</td>\n      <td>0.0</td>\n      <td>...</td>\n      <td>0.0</td>\n      <td>0.0</td>\n      <td>0.0</td>\n      <td>0.0</td>\n      <td>0.0</td>\n      <td>0.0</td>\n      <td>0.0</td>\n      <td>0.0</td>\n      <td>0.0</td>\n      <td>0.0</td>\n    </tr>\n    <tr>\n      <th>84816985</th>\n      <td>0.0</td>\n      <td>0.0</td>\n      <td>0.0</td>\n      <td>0.0</td>\n      <td>0.0</td>\n      <td>0.0</td>\n      <td>0.0</td>\n      <td>0.0</td>\n      <td>0.0</td>\n      <td>0.0</td>\n      <td>...</td>\n      <td>0.0</td>\n      <td>0.0</td>\n      <td>0.0</td>\n      <td>0.0</td>\n      <td>0.0</td>\n      <td>0.0</td>\n      <td>0.0</td>\n      <td>0.0</td>\n      <td>0.0</td>\n      <td>0.0</td>\n    </tr>\n    <tr>\n      <th>54129921</th>\n      <td>0.0</td>\n      <td>0.0</td>\n      <td>0.0</td>\n      <td>0.0</td>\n      <td>0.0</td>\n      <td>0.0</td>\n      <td>0.0</td>\n      <td>0.0</td>\n      <td>0.0</td>\n      <td>0.0</td>\n      <td>...</td>\n      <td>0.0</td>\n      <td>0.0</td>\n      <td>0.0</td>\n      <td>0.0</td>\n      <td>0.0</td>\n      <td>0.0</td>\n      <td>0.0</td>\n      <td>0.0</td>\n      <td>0.0</td>\n      <td>0.0</td>\n    </tr>\n    <tr>\n      <th>23160845</th>\n      <td>0.0</td>\n      <td>0.0</td>\n      <td>0.0</td>\n      <td>0.0</td>\n      <td>0.0</td>\n      <td>0.0</td>\n      <td>0.0</td>\n      <td>0.0</td>\n      <td>0.0</td>\n      <td>0.0</td>\n      <td>...</td>\n      <td>0.0</td>\n      <td>0.0</td>\n      <td>0.0</td>\n      <td>0.0</td>\n      <td>0.0</td>\n      <td>0.0</td>\n      <td>0.0</td>\n      <td>0.0</td>\n      <td>0.0</td>\n      <td>0.0</td>\n    </tr>\n    <tr>\n      <th>45646491</th>\n      <td>0.0</td>\n      <td>0.0</td>\n      <td>0.0</td>\n      <td>0.0</td>\n      <td>0.0</td>\n      <td>0.0</td>\n      <td>0.0</td>\n      <td>0.0</td>\n      <td>0.0</td>\n      <td>0.0</td>\n      <td>...</td>\n      <td>0.0</td>\n      <td>0.0</td>\n      <td>0.0</td>\n      <td>0.0</td>\n      <td>0.0</td>\n      <td>0.0</td>\n      <td>0.0</td>\n      <td>0.0</td>\n      <td>0.0</td>\n      <td>0.0</td>\n    </tr>\n  </tbody>\n</table>\n<p>5 rows × 246 columns</p>\n</div>"
     },
     "execution_count": 22,
     "metadata": {},
     "output_type": "execute_result"
    }
   ],
   "source": [
    "X_test_predictions.head()"
   ],
   "metadata": {
    "collapsed": false,
    "pycharm": {
     "name": "#%%\n"
    }
   }
  },
  {
   "cell_type": "code",
   "execution_count": 24,
   "outputs": [
    {
     "data": {
      "text/plain": "array([[0.49470556, 0.50529444],\n       [0.35404468, 0.6459553 ],\n       [0.96439624, 0.03560377],\n       ...,\n       [0.6670227 , 0.3329773 ],\n       [0.86456674, 0.13543324],\n       [0.7199139 , 0.2800861 ]], dtype=float32)"
     },
     "execution_count": 24,
     "metadata": {},
     "output_type": "execute_result"
    }
   ],
   "source": [
    "xgb_GS.predict_proba(X_test_predictions)"
   ],
   "metadata": {
    "collapsed": false,
    "pycharm": {
     "name": "#%%\n"
    }
   }
  },
  {
   "cell_type": "code",
   "execution_count": 25,
   "outputs": [
    {
     "data": {
      "text/plain": "(3600, 2)"
     },
     "execution_count": 25,
     "metadata": {},
     "output_type": "execute_result"
    }
   ],
   "source": [
    "test_predictions = pd.DataFrame({'customer_id':X_test_predictions.index,\n",
    "                                       'probability':xgb_GS.predict_proba(X_test_predictions)[:,1]})\n",
    "test_predictions.to_csv('predictions.csv', index=False)\n",
    "test_predictions.shape"
   ],
   "metadata": {
    "collapsed": false,
    "pycharm": {
     "name": "#%%\n"
    }
   }
  }
 ],
 "metadata": {
  "kernelspec": {
   "display_name": "Python 3",
   "language": "python",
   "name": "python3"
  },
  "language_info": {
   "codemirror_mode": {
    "name": "ipython",
    "version": 2
   },
   "file_extension": ".py",
   "mimetype": "text/x-python",
   "name": "python",
   "nbconvert_exporter": "python",
   "pygments_lexer": "ipython2",
   "version": "2.7.6"
  }
 },
 "nbformat": 4,
 "nbformat_minor": 0
}